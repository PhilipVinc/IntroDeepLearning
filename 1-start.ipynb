{
 "cells": [
  {
   "cell_type": "markdown",
   "id": "2cb283d3-2996-4cae-9253-22df9292c723",
   "metadata": {},
   "source": [
    "# Introduction to Deep Learning\n",
    "\n",
    "### Hands-on 1: Introduction to Jax, Automatic Differentiation, Flax & co\n",
    "\n",
    "Filippo Vicentini and Giuseppe Carleo\n",
    "\n",
    "The program of this Hands-on is the following:\n",
    "\n",
    "0. Setup\n",
    " 1. Introduction to Jax\n",
    " 2. Automatic differentiation with Jax\n",
    " 3. Linear Regression with Flax\n",
    " 4. Machine Learning example with Flax"
   ]
  },
  {
   "cell_type": "markdown",
   "id": "176b97f1-2c29-4690-a238-6afc5bb40191",
   "metadata": {},
   "source": [
    "## 0 - Setup\n",
    "\n",
    "To run this notebook you will need:\n",
    " - Python >= 3.7\n",
    " - A notebook interface (Jupyter Notebook / Lab or Google Colab)\n",
    " - Jax >= 0.2.17\n",
    " - Flax >= 0.3\n",
    " - Optax >= 0.0.8\n",
    " \n",
    "Some of the next notebooks will also use `tensorflow_datasets` to automatically download and setup Machine-Learning datasets such as MNIST. It requires `tensorflow` to be installed.\n",
    " \n",
    "During the class we will be running this notebook with Google Colab, that gives you an easy to use environment in the Cloud with access to a GPU. Thankfully, Colab has tensorflow already installed.\n",
    "\n",
    "To install the packages in Colab you need to run the cell below.\n",
    "*If you are running in your own environment, you should not run the cell below!*"
   ]
  },
  {
   "cell_type": "code",
   "execution_count": null,
   "id": "9d8ac809-9148-4316-afb2-4bd884ae3f16",
   "metadata": {},
   "outputs": [],
   "source": [
    "!pip install --upgrade jax flax optax tqdm sklearn"
   ]
  },
  {
   "cell_type": "markdown",
   "id": "cb319b95-1c4a-4477-ad7e-7ca68a14f349",
   "metadata": {},
   "source": [
    "\n",
    "If you wish to run this notebook or experiment with an environment in your own machine I suggest the following:\n",
    "\n",
    " - Install Python with pyenv: https://realpython.com/intro-to-pyenv/ \n",
    " - Install the notebook interface with pip\n",
    " - Install the packages with pip"
   ]
  },
  {
   "cell_type": "markdown",
   "id": "7214ffe3-e1bc-4ff9-8bc6-2d0b67b37ef6",
   "metadata": {},
   "source": [
    "## 1 - Introduction to Jax\n",
    "\n",
    "In this Notebook I will assume familiarity with basic python constructs, such as defining functions, lists and tuples, printing and importing packages, loops and comprehension. \n",
    "If any of this is not clear, please do ask question."
   ]
  },
  {
   "cell_type": "code",
   "execution_count": 4,
   "id": "288bdeb8-305f-4181-8fad-d7d944845be4",
   "metadata": {},
   "outputs": [
    {
     "name": "stdout",
     "output_type": "stream",
     "text": [
      "0.2.20\n"
     ]
    }
   ],
   "source": [
    "# We start by importing jax\n",
    "import jax\n",
    "\n",
    "print(jax.__version__)"
   ]
  },
  {
   "cell_type": "markdown",
   "id": "b9216dfb-cf03-4653-82d9-1ca35225bf45",
   "metadata": {},
   "source": [
    "Do check the version! You should have a recent version (>= 0.2.18)"
   ]
  },
  {
   "cell_type": "markdown",
   "id": "31fbf73f-4d3e-4305-9e72-afca467e8a32",
   "metadata": {},
   "source": [
    "### 1.1 - Jax's NumPy API"
   ]
  },
  {
   "cell_type": "code",
   "execution_count": 5,
   "id": "cb4bf093-763f-4860-800f-d87abc21937e",
   "metadata": {},
   "outputs": [],
   "source": [
    "# import standard numpy\n",
    "import numpy as np\n",
    "\n",
    "# import jax.numpy as jnp\n",
    "import jax.numpy as jnp"
   ]
  },
  {
   "cell_type": "markdown",
   "id": "830ef105-b317-406e-bcda-24e3c86fe3b6",
   "metadata": {},
   "source": [
    "`jax.numpy` is the NumPy-like API that needs to be imported, and we will also use `jax.random` to generate some data to work on. \n",
    "\n",
    "Let's start by generating some matrices, and then try matrix multiplication."
   ]
  },
  {
   "cell_type": "code",
   "execution_count": 6,
   "id": "a4acf8a3-2b89-4a25-8012-0e5283f61d1f",
   "metadata": {},
   "outputs": [],
   "source": [
    "m = jnp.ones((4,4)) # We're generating one 4 by 4 matrix filled with ones.\n",
    "n = jnp.array([[1.0, 2.0, 3.0, 4.0],\n",
    "               [5.0, 6.0, 7.0, 8.0]]) # An explicit 2 by 4 array"
   ]
  },
  {
   "cell_type": "markdown",
   "id": "c2657d7f-e5c6-4f07-94bb-5f4a18f8ee25",
   "metadata": {},
   "source": [
    "Let's try to print one of those objects"
   ]
  },
  {
   "cell_type": "code",
   "execution_count": 7,
   "id": "58316c5a-0950-4e7d-a9a1-e9150426f8bd",
   "metadata": {},
   "outputs": [
    {
     "data": {
      "text/plain": [
       "DeviceArray([[1., 1., 1., 1.],\n",
       "             [1., 1., 1., 1.],\n",
       "             [1., 1., 1., 1.],\n",
       "             [1., 1., 1., 1.]], dtype=float32)"
      ]
     },
     "execution_count": 7,
     "metadata": {},
     "output_type": "execute_result"
    }
   ],
   "source": [
    "m"
   ]
  },
  {
   "cell_type": "code",
   "execution_count": 8,
   "id": "fac8665e-54a1-4a75-84ab-050d813aaedc",
   "metadata": {},
   "outputs": [
    {
     "name": "stdout",
     "output_type": "stream",
     "text": [
      "shape: (4, 4)\n",
      "size: 16\n",
      "dtype: float32\n"
     ]
    }
   ],
   "source": [
    "# we can also inspect it's shape, size and dtype\n",
    "print(f\"shape: {m.shape}\")\n",
    "print(f\"size: {m.size}\")\n",
    "print(f\"dtype: {m.dtype}\")"
   ]
  },
  {
   "cell_type": "markdown",
   "id": "6439bccd-ed43-480f-b6b3-e5ae3a763db1",
   "metadata": {},
   "source": [
    "Arrays in JAX are represented as DeviceArray instances and are agnostic to the place where the array lives (CPU, GPU, or TPU). This is why we're getting the warning that no GPU/TPU was found and JAX is falling back to a CPU (unless you're running it in an environment that has a GPU/TPU available).\n",
    "\n",
    "We can obviously multiply matrices like we would do in NumPy."
   ]
  },
  {
   "cell_type": "markdown",
   "id": "45e2df29-7aae-4782-a716-1cc02f36785e",
   "metadata": {},
   "source": [
    "JAX is fully compatible with NumPy, and can transparently process arrays from one library to the other."
   ]
  },
  {
   "cell_type": "code",
   "execution_count": 9,
   "id": "5209b98c-1afe-439d-a80e-c21ddddcc3c4",
   "metadata": {},
   "outputs": [
    {
     "data": {
      "text/plain": [
       "DeviceArray([[-2.3333364 , -2.3333364 , -2.3333364 , -2.3333364 ],\n",
       "             [ 0.5339834 ,  0.5339834 ,  0.5339834 ,  0.5339834 ],\n",
       "             [-0.78738993, -0.78738993, -0.78738993, -0.78738993],\n",
       "             [ 1.7955508 ,  1.7955508 ,  1.7955508 ,  1.7955508 ]],            dtype=float32)"
      ]
     },
     "execution_count": 9,
     "metadata": {},
     "output_type": "execute_result"
    }
   ],
   "source": [
    "x = np.random.normal(size=(4,4)) # Creating one standard NumPy array instance\n",
    "jnp.dot(x,m)"
   ]
  },
  {
   "cell_type": "markdown",
   "id": "9e4e1fa1-f542-47a2-9ecb-247b4a148f82",
   "metadata": {},
   "source": [
    "Using NumPy arrays directly will result in multiple transfers from CPU to GPU/TPU memory. In general, try to work with objects that are all jax's DeviceArrays by converting everything before-hand using `jnp.asarray`."
   ]
  },
  {
   "cell_type": "markdown",
   "id": "47b15398-6258-4b1a-aecc-c631d9950861",
   "metadata": {},
   "source": [
    "### 1.2 - (Im)mutability\n",
    "JAX is functional by essence, one practical consequence being that JAX arrays are immutable. This means no in-place ops and sliced assignments. More generally, functions should not take input or produce output using a global state."
   ]
  },
  {
   "cell_type": "code",
   "execution_count": 10,
   "id": "43d9bc99-f7c0-40ba-bdfb-bf530a55f515",
   "metadata": {},
   "outputs": [
    {
     "name": "stdout",
     "output_type": "stream",
     "text": [
      "x: \n",
      " [[1. 2. 3. 4.]\n",
      " [5. 6. 7. 8.]]\n"
     ]
    }
   ],
   "source": [
    "# we construct a matrix\n",
    "x = jnp.array([[1.0, 2.0, 3.0, 4.0],\n",
    "               [5.0, 6.0, 7.0, 8.0]])\n",
    "print(\"x: \\n\", x)"
   ]
  },
  {
   "cell_type": "code",
   "execution_count": 11,
   "id": "71a22962-e7e6-4424-8e44-c8444a880191",
   "metadata": {},
   "outputs": [],
   "source": [
    "# we update some indices\n",
    "updated = x.at[0,0].set(3.0) # whereas x[0,0] = 3.0 would fail"
   ]
  },
  {
   "cell_type": "code",
   "execution_count": 12,
   "id": "eb5dbb89-d039-4a66-a24d-4e5e481e35d0",
   "metadata": {},
   "outputs": [
    {
     "name": "stdout",
     "output_type": "stream",
     "text": [
      "x: \n",
      " [[1. 2. 3. 4.]\n",
      " [5. 6. 7. 8.]]\n",
      "updated: \n",
      " [[3. 2. 3. 4.]\n",
      " [5. 6. 7. 8.]]\n"
     ]
    }
   ],
   "source": [
    "print(\"x: \\n\", x) # Note that x didn't change, no in-place mutation.\n",
    "print(\"updated: \\n\", updated)"
   ]
  },
  {
   "cell_type": "markdown",
   "id": "2189988c-fe23-4aae-9923-f308d4fa119d",
   "metadata": {},
   "source": [
    "### 1.3 - Managing randomness\n",
    "In JAX, randomness is managed in a very specific way, and you can read more on JAX's docs [here](https://jax.readthedocs.io/en/latest/notebooks/Common_Gotchas_in_JAX.html#%F0%9F%94%AA-Random-Numbers) (we borrow content from there!). As the JAX team puts it:\n",
    "\n",
    "*JAX implements an explicit PRNG where entropy production and consumption are handled by explicitly passing and iterating a PRNG state. JAX uses a modern Threefry counter-based PRNG that’s splittable. That is, its design allows us to fork the PRNG state into new PRNGs for use with parallel stochastic generation.*\n",
    "\n",
    "In short, you need to explicitly manage the PRNGs (pseudo random number generators) and their states. In JAX's PRNGs, the state is represented as a pair of two unsigned-int32s that is called a key (there is no special meaning to the two unsigned int32s -- it's just a way of representing a uint64)."
   ]
  },
  {
   "cell_type": "code",
   "execution_count": 13,
   "id": "8ff8d447-a8d3-49ad-a332-97872238f16a",
   "metadata": {},
   "outputs": [],
   "source": [
    "# let's import jax.random\n",
    "from jax import random"
   ]
  },
  {
   "cell_type": "code",
   "execution_count": 14,
   "id": "926b980a-1269-4eda-9e53-dc3776c99c84",
   "metadata": {},
   "outputs": [
    {
     "data": {
      "text/plain": [
       "DeviceArray([0, 0], dtype=uint32)"
      ]
     },
     "execution_count": 14,
     "metadata": {},
     "output_type": "execute_result"
    }
   ],
   "source": [
    "key = random.PRNGKey(0)\n",
    "key"
   ]
  },
  {
   "cell_type": "markdown",
   "id": "c19b327e-fa65-440d-a384-336ce892dcf6",
   "metadata": {},
   "source": [
    "If you use this key multiple times, you'll get the same \"random\" output each time. To generate further entries in the sequence, you'll need to split the PRNG and thus generate a new pair of keys."
   ]
  },
  {
   "cell_type": "code",
   "execution_count": 15,
   "id": "98c1d48b-9e2a-4b80-90ea-e9c77aa01764",
   "metadata": {},
   "outputs": [
    {
     "name": "stdout",
     "output_type": "stream",
     "text": [
      "Printing the random number using key=[0 0] gives: [-0.20584235]\n",
      "Printing the random number using key=[0 0] gives: [-0.20584235]\n",
      "Printing the random number using key=[0 0] gives: [-0.20584235]\n"
     ]
    }
   ],
   "source": [
    "for i in range(3):\n",
    "    print(f\"Printing the random number using key={key} gives:\", random.normal(key,shape=(1,)))"
   ]
  },
  {
   "cell_type": "code",
   "execution_count": 16,
   "id": "144e5ca4-efaa-4e1d-a744-2242046490da",
   "metadata": {},
   "outputs": [
    {
     "name": "stdout",
     "output_type": "stream",
     "text": [
      "old key [0 0] --> normal [-0.20584235]\n",
      "    \\---SPLIT --> new key    [4146024105  967050713] --> normal [0.14389044]\n",
      "             \\--> new subkey [2718843009 1272950319] --> normal [-1.2515389]\n"
     ]
    }
   ],
   "source": [
    "print(\"old key\", key, \"--> normal\", random.normal(key, shape=(1,)))\n",
    "key, subkey = random.split(key)\n",
    "print(\"    \\---SPLIT --> new key   \", key, \"--> normal\", random.normal(key, shape=(1,)) )\n",
    "print(\"             \\--> new subkey\", subkey, \"--> normal\", random.normal(subkey, shape=(1,)) )"
   ]
  },
  {
   "cell_type": "markdown",
   "id": "beaf38c0-711e-4d3e-b45e-35b1fc4aa7a8",
   "metadata": {},
   "source": [
    "While this might seem an annoyance, it's extremely useful because if we simply store this 8 bytes we can always reproduce the state of the random number generator later on. \n",
    "This is extremely important when performing automatic differentiation."
   ]
  },
  {
   "cell_type": "markdown",
   "id": "8d102062-e626-4a0c-8e47-7fec17ea13c7",
   "metadata": {},
   "source": [
    "### 1.4 - Using jax.jit to speed-up your code\n",
    "\n",
    "JAX runs transparently on the GPU (or CPU, if you don't have one, and TPU coming soon!). However, in the above example, JAX is dispatching kernels from python to the CPU/GPU one operation at a time. \n",
    "\n",
    "Dispatching has a considerable overhead of several microseconds. Ideally we would like to pay this cost only once, at the beginning of a `kernel`, by leaving Python-land entirely.\n",
    "\n",
    "If we have a sequence of operations, we can use the `@jit` decorator to compile multiple operations together using [XLA](https://www.tensorflow.org/xla). \n",
    "\n",
    "Effectively, what this does is the following:\n",
    " - Your function is executed with a 'tape', where every operation is recorded\n",
    " - Calculations are not performed. Instead, on the tape it is simply written down multiply matrix A times matrix B, add vector C, etc... \n",
    "    - The tape only knows shapes and dtypes of your vectors.\n",
    " - Once the function returns, the 'tape' is converted to code, then optimized, compiled, and your function is replaced by this compiled code.\n"
   ]
  },
  {
   "cell_type": "code",
   "execution_count": 25,
   "id": "77efa372-488e-4959-bc82-0bb51eef4556",
   "metadata": {},
   "outputs": [],
   "source": [
    "# let's define a sample function\n",
    "def my_fun(x):\n",
    "    return jnp.dot(x.T,x)/2.0"
   ]
  },
  {
   "cell_type": "code",
   "execution_count": 26,
   "id": "f486f5b2-794b-4cd5-bedc-d1c00fbaf996",
   "metadata": {},
   "outputs": [],
   "source": [
    "# let's define the inputs\n",
    "v = jnp.ones(10)"
   ]
  },
  {
   "cell_type": "code",
   "execution_count": 28,
   "id": "64aeb4a3-3803-4752-b7c1-8379e9522ca4",
   "metadata": {},
   "outputs": [
    {
     "data": {
      "text/plain": [
       "DeviceArray(5., dtype=float32)"
      ]
     },
     "execution_count": 28,
     "metadata": {},
     "output_type": "execute_result"
    }
   ],
   "source": [
    "# let's try to execute it\n",
    "my_fun(v)"
   ]
  },
  {
   "cell_type": "code",
   "execution_count": 29,
   "id": "34dc811b-e270-4535-ba7d-58b937e3320f",
   "metadata": {},
   "outputs": [],
   "source": [
    "#Let's now try to jit it:\n",
    "my_jitted_fun = jax.jit(my_fun)"
   ]
  },
  {
   "cell_type": "code",
   "execution_count": 32,
   "id": "c96e6bb7-5096-44af-8016-fcc821872b2e",
   "metadata": {},
   "outputs": [
    {
     "name": "stdout",
     "output_type": "stream",
     "text": [
      "4.26 µs ± 408 ns per loop (mean ± std. dev. of 7 runs, 100000 loops each)\n"
     ]
    }
   ],
   "source": [
    "%%timeit \n",
    "my_jitted_fun(v)"
   ]
  },
  {
   "cell_type": "code",
   "execution_count": 33,
   "id": "a1d77c34-1827-49d4-9698-831c216ae86e",
   "metadata": {},
   "outputs": [
    {
     "name": "stdout",
     "output_type": "stream",
     "text": [
      "123 µs ± 7.91 µs per loop (mean ± std. dev. of 7 runs, 10000 loops each)\n"
     ]
    }
   ],
   "source": [
    "%%timeit \n",
    "my_fun(v)"
   ]
  },
  {
   "cell_type": "markdown",
   "id": "f809788e-b297-4cc3-914a-3d9720648261",
   "metadata": {},
   "source": [
    "We can also inspect the tape:"
   ]
  },
  {
   "cell_type": "code",
   "execution_count": 35,
   "id": "a2d25ea9-ebc4-40fa-a745-0f2061c25d5d",
   "metadata": {},
   "outputs": [
    {
     "data": {
      "text/plain": [
       "{ lambda  ; a.\n",
       "  let b = dot_general[ dimension_numbers=(((0,), (0,)), ((), ()))\n",
       "                       precision=None\n",
       "                       preferred_element_type=None ] a a\n",
       "      c = div b 2.0\n",
       "  in (c,) }"
      ]
     },
     "execution_count": 35,
     "metadata": {},
     "output_type": "execute_result"
    }
   ],
   "source": [
    "jax.make_jaxpr(my_fun)(v)"
   ]
  },
  {
   "cell_type": "code",
   "execution_count": null,
   "id": "2179e585-6fdd-4a3e-8e97-82266c659fb2",
   "metadata": {},
   "outputs": [],
   "source": []
  },
  {
   "cell_type": "markdown",
   "id": "a101d5f4-fda8-4efc-9196-30d09413b3e9",
   "metadata": {},
   "source": [
    "## 2 - Gradients and autodiff\n",
    "\n",
    "For a full overview of JAX's automatic differentiation system, you can check the [Autodiff Cookbook](https://jax.readthedocs.io/en/latest/notebooks/autodiff_cookbook.html).\n",
    "\n",
    "Even though, theoretically, a VJP (Vector-Jacobian product - reverse autodiff) and a JVP (Jacobian-Vector product - forward-mode autodiff) are similar—they compute a product of a Jacobian and a vector—they differ by the computational complexity of the operation. In short, when you have a large number of parameters (hence a wide matrix), a JVP is less efficient computationally than a VJP, and, conversely, a JVP is more efficient when the Jacobian matrix is a tall matrix. You can read more in the JAX [cookbook](https://jax.readthedocs.io/en/latest/notebooks/autodiff_cookbook.html#jacobian-vector-products-jvps-aka-forward-mode-autodiff) [notebook](https://jax.readthedocs.io/en/latest/notebooks/autodiff_cookbook.html#vector-jacobian-products-vjps-aka-reverse-mode-autodiff) mentioned above.\n",
    "\n",
    "### 2.1 - Gradients\n",
    "\n",
    "JAX provides first-class support for gradients and automatic differentiation in functions. This is also where the functional paradigm shines, since gradients on functions are essentially stateless operations. If we consider a simple function $f:\\mathbb{R}^n\\rightarrow\\mathbb{R}$\n",
    "\n",
    "$$f(x) = \\frac{1}{2} x^T x$$\n",
    "\n",
    "with the (known) gradient:\n",
    "$$\\nabla f(x) = x$$"
   ]
  },
  {
   "cell_type": "code",
   "execution_count": 36,
   "id": "7b2d737c-0d66-4664-a3dd-ab848b15d284",
   "metadata": {},
   "outputs": [
    {
     "data": {
      "text/plain": [
       "DeviceArray(2., dtype=float32)"
      ]
     },
     "execution_count": 36,
     "metadata": {},
     "output_type": "execute_result"
    }
   ],
   "source": [
    "key = random.PRNGKey(0)\n",
    "def f(x):\n",
    "  return jnp.dot(x.T,x)/2.0\n",
    "\n",
    "v = jnp.ones((4,))\n",
    "f(v)"
   ]
  },
  {
   "cell_type": "markdown",
   "id": "c4b2822b-01c4-48ae-9eff-2297dcff908b",
   "metadata": {},
   "source": [
    "JAX computes the gradient as an operator acting on functions with `jax.grad`. Note that this only works for scalar valued functions.\n",
    "\n",
    "Let's take the gradient of f and make sure it matches the identity map."
   ]
  },
  {
   "cell_type": "code",
   "execution_count": 37,
   "id": "eeb43519-b228-4b27-873d-9f3d6e5bcb6c",
   "metadata": {},
   "outputs": [
    {
     "name": "stdout",
     "output_type": "stream",
     "text": [
      "Original v:\n",
      "[ 1.8160858 -0.7548852  0.339889  -0.5348355]\n",
      "Gradient of f taken at point v\n",
      "[ 1.8160858 -0.7548852  0.339889  -0.5348355]\n"
     ]
    }
   ],
   "source": [
    "v = random.normal(key,(4,))\n",
    "print(\"Original v:\")\n",
    "print(v)\n",
    "print(\"Gradient of f taken at point v\")\n",
    "print(jax.grad(f)(v)) # should be equal to v !"
   ]
  },
  {
   "cell_type": "markdown",
   "id": "98d00b7f-de4a-4552-b768-ca99498b3273",
   "metadata": {},
   "source": [
    "We can inspect the tape by using `jax.make_jaxpr(my_function)(input)`.\n",
    "This substitutes to the inputs equivalent tapes, records every operation, and then\n",
    "prints it.\n",
    "\n",
    "In this intermediate representation (IR), every 'variable' is assigned only once and there is only one operation per 'line'.\n",
    "\n",
    " - The first line lists the inputs (in this case we have only one input, 'a', which we know is a vector.\n",
    " - The second line says that 'b' is obtained by doing `dot_general(a,a)`, which is the generic operation corresponding to dot product\n",
    " - The third line says that `c` is obtained by dividing `b` by `2.0`\n",
    " - The last line says that `c` should be returned."
   ]
  },
  {
   "cell_type": "code",
   "execution_count": 38,
   "id": "b68ceb09-c335-42fe-adc8-682e6a947f60",
   "metadata": {},
   "outputs": [
    {
     "data": {
      "text/plain": [
       "{ lambda  ; a.\n",
       "  let b = dot_general[ dimension_numbers=(((0,), (0,)), ((), ()))\n",
       "                       precision=None\n",
       "                       preferred_element_type=None ] a a\n",
       "      c = div b 2.0\n",
       "  in (c,) }"
      ]
     },
     "execution_count": 38,
     "metadata": {},
     "output_type": "execute_result"
    }
   ],
   "source": [
    "jax.make_jaxpr(f)(v)"
   ]
  },
  {
   "cell_type": "markdown",
   "id": "d56b37b0-34e4-4476-abfe-ac1fdd407afc",
   "metadata": {},
   "source": [
    "We can also inspect the IR of the gradient of f, in much the same way.\n",
    "Grad does backward differentiation, so it first executes the `forward pass` or the function itself, and then _pulls back_ a value of `1.0` with the jacobian of the function.\n",
    "\n",
    "The first 3 lines are equivalent to the previous function, however, the following lines are interesting.\n",
    "\n",
    "*They can be thought of as executing the tape backwards by replacing every operation with its adjoint/pullback.*\n",
    "\n",
    " - Line 4: (adjoint of c=b/2) take the sensitivity input `1.0` (adjoint of the output) and multiply it by 2. `c=1.0*2`\n",
    " - Line 5: `d = c * a`\n",
    " - Line 6: `e = c * a`\n",
    " - Line 7 : return `d+e`"
   ]
  },
  {
   "cell_type": "code",
   "execution_count": 39,
   "id": "1a3fbff2-78a9-437d-becb-d120e499d9d5",
   "metadata": {},
   "outputs": [
    {
     "data": {
      "text/plain": [
       "{ lambda  ; a.\n",
       "  let b = dot_general[ dimension_numbers=(((0,), (0,)), ((), ()))\n",
       "                       precision=None\n",
       "                       preferred_element_type=None ] a a\n",
       "      _ = div b 2.0\n",
       "      c = div 1.0 2.0\n",
       "      d = dot_general[ dimension_numbers=(((), ()), ((), ()))\n",
       "                       precision=None\n",
       "                       preferred_element_type=None ] c a\n",
       "      e = dot_general[ dimension_numbers=(((), ()), ((), ()))\n",
       "                       precision=None\n",
       "                       preferred_element_type=None ] c a\n",
       "      f = add_any d e\n",
       "  in (f,) }"
      ]
     },
     "execution_count": 39,
     "metadata": {},
     "output_type": "execute_result"
    }
   ],
   "source": [
    "jax.make_jaxpr(jax.grad(f))(v)"
   ]
  },
  {
   "cell_type": "code",
   "execution_count": 49,
   "id": "f46e785d-3f97-4f6e-8100-7de855cc4388",
   "metadata": {},
   "outputs": [
    {
     "data": {
      "text/plain": [
       "DeviceArray(2., dtype=float32)"
      ]
     },
     "execution_count": 49,
     "metadata": {},
     "output_type": "execute_result"
    }
   ],
   "source": [
    "jax.grad(f)(2.0)"
   ]
  },
  {
   "cell_type": "code",
   "execution_count": 52,
   "id": "6eab8940-9ec2-40ca-bca5-69e15b716fee",
   "metadata": {},
   "outputs": [],
   "source": [
    "## 2.2 - Forward Mode Automatic Differentiation"
   ]
  },
  {
   "cell_type": "code",
   "execution_count": 55,
   "id": "825f569f-c35f-442e-ac4c-a11b00433f1d",
   "metadata": {},
   "outputs": [
    {
     "data": {
      "text/plain": [
       "DeviceArray(0.4560115+1.1227126j, dtype=complex64, weak_type=True)"
      ]
     },
     "execution_count": 55,
     "metadata": {},
     "output_type": "execute_result"
    }
   ],
   "source": [
    "jnp.sin(jnp.array(0.3+1.0j))"
   ]
  },
  {
   "cell_type": "code",
   "execution_count": 53,
   "id": "1610b49e-4b5e-4b66-967a-6952728a2658",
   "metadata": {},
   "outputs": [
    {
     "data": {
      "text/plain": [
       "DeviceArray(0.9553365, dtype=float32)"
      ]
     },
     "execution_count": 53,
     "metadata": {},
     "output_type": "execute_result"
    }
   ],
   "source": [
    "jax.grad(jnp.sin)(0.3)"
   ]
  },
  {
   "cell_type": "code",
   "execution_count": null,
   "id": "f34841ed-24f7-4bef-ae2a-0f795b58a71e",
   "metadata": {},
   "outputs": [],
   "source": [
    "jax.jacfwd"
   ]
  },
  {
   "cell_type": "code",
   "execution_count": null,
   "id": "7b8acbec-6067-4b57-8761-424e2ef1f2b3",
   "metadata": {},
   "outputs": [],
   "source": []
  },
  {
   "cell_type": "markdown",
   "id": "864bdb5e-d3fb-4ef6-ba8e-78ba0c15e048",
   "metadata": {},
   "source": [
    "## 3 - Linear Regression in Jax\n",
    "\n",
    "Let's implement one of the simplest models using everything we have seen so far: a linear regression. From a set of data points $\\{(x_i,y_i), i\\in \\{1,\\ldots, k\\}, x_i\\in\\mathbb{R}^n,y_i\\in\\mathbb{R}^m\\}$, we try to find a set of parameters $W\\in \\mathcal{M}_{m,n}(\\mathbb{R}), b\\in\\mathbb{R}^m$ such that the function $f_{W,b}(x)=Wx+b$ minimizes the mean squared error:\n",
    "$$\\mathcal{L}(W,b)\\rightarrow\\frac{1}{k}\\sum_{i=1}^{k} \\frac{1}{2}\\|y_i-f_{W,b}(x_i)\\|^2_2$$\n",
    "\n",
    "(Note: depending on how you cast the regression problem you might end up with different setups. Theoretically we should be minimizing the expectation of the loss wrt to the data distribution, however for the sake of simplicity here we consider only the sampled loss)."
   ]
  },
  {
   "cell_type": "code",
   "execution_count": 80,
   "id": "695d6d71-914d-4865-8af0-d82d7b2623b0",
   "metadata": {},
   "outputs": [],
   "source": [
    "from matplotlib import pyplot as plt \n",
    "\n",
    "from sklearn.datasets import make_regression\n",
    "from sklearn.model_selection import train_test_split"
   ]
  },
  {
   "cell_type": "code",
   "execution_count": 81,
   "id": "eaf8a1a9-a843-40cb-8b04-44b6ced35f6a",
   "metadata": {},
   "outputs": [
    {
     "name": "stdout",
     "output_type": "stream",
     "text": [
      "x shape is: (100, 1)\n",
      "y shape is: (100, 1)\n"
     ]
    }
   ],
   "source": [
    "in_dimension = 1\n",
    "out_dimension = 1\n",
    "\n",
    "x, y = make_regression(n_samples=100, n_features=in_dimension, n_targets=out_dimension, noise=10)\n",
    "y = y / jnp.sqrt(jnp.mean(jnp.square(y)))\n",
    "print(f\"x shape is: {x.shape}\")\n",
    "print(f\"y shape is: {x.shape}\")"
   ]
  },
  {
   "cell_type": "code",
   "execution_count": 82,
   "id": "6074c084-8e70-44d8-970d-c87b86c1cc14",
   "metadata": {},
   "outputs": [
    {
     "data": {
      "text/plain": [
       "[<matplotlib.lines.Line2D at 0x1634ac2e0>]"
      ]
     },
     "execution_count": 82,
     "metadata": {},
     "output_type": "execute_result"
    },
    {
     "data": {
      "image/png": "[encoded data removed]",
      "text/plain": [
       "<Figure size 432x288 with 1 Axes>"
      ]
     },
     "metadata": {
      "needs_background": "light"
     },
     "output_type": "display_data"
    }
   ],
   "source": [
    "plt.plot(x,y, '*')"
   ]
  },
  {
   "cell_type": "code",
   "execution_count": 83,
   "id": "aadfe041-a420-4c14-837f-aa020e960a77",
   "metadata": {},
   "outputs": [],
   "source": [
    "# let's try to fit this with a line\n",
    "params = {\n",
    "    'w': jnp.zeros(x.shape[1:]),\n",
    "    'b': 0.\n",
    "}\n",
    "\n",
    "def approxfun(params, x):\n",
    "    return jnp.dot(x, params['w']) + params['b']"
   ]
  },
  {
   "cell_type": "code",
   "execution_count": null,
   "id": "6849896f-3c36-41ec-881c-97931de05d04",
   "metadata": {},
   "outputs": [],
   "source": []
  },
  {
   "cell_type": "code",
   "execution_count": 84,
   "id": "1f31247a-d9de-42fb-b171-bf99878e0cdc",
   "metadata": {},
   "outputs": [
    {
     "data": {
      "text/plain": [
       "[<matplotlib.lines.Line2D at 0x16350c1c0>]"
      ]
     },
     "execution_count": 84,
     "metadata": {},
     "output_type": "execute_result"
    },
    {
     "data": {
      "image/png": "[encoded data removed]",
      "text/plain": [
       "<Figure size 432x288 with 1 Axes>"
      ]
     },
     "metadata": {
      "needs_background": "light"
     },
     "output_type": "display_data"
    }
   ],
   "source": [
    "# generate all points in an interval\n",
    "_xpts = jnp.linspace(-2,2,10)\n",
    "plt.plot(_xpts, jax.vmap(approxfun, in_axes=(None, 0))(params, _xpts))\n",
    "plt.plot(x,y, '*')"
   ]
  },
  {
   "cell_type": "markdown",
   "id": "b7555184-5cb8-47d5-ba5c-ae85d360c8d4",
   "metadata": {},
   "source": [
    "Let's try to define the function we want to optimise\n",
    "\n",
    "$$\\mathcal{L}(W,b)\\rightarrow\\frac{1}{k}\\sum_{i=1}^{k} \\frac{1}{2}\\|y_i-f_{W,b}(x_i)\\|^2_2$$"
   ]
  },
  {
   "cell_type": "code",
   "execution_count": 85,
   "id": "a124d6cc-aad3-47ea-88a1-74a80ebdb8d4",
   "metadata": {},
   "outputs": [],
   "source": [
    "def loss_fn(params, xs, ys):\n",
    "    \n",
    "    # function returning squared error of a single datapoint\n",
    "    def squared_error(x,y):\n",
    "          y_pred = approxfun(params, x)\n",
    "          return jnp.square(y-y_pred)/2.0\n",
    "    \n",
    "    squared_error_vmap = jax.vmap(squared_error)\n",
    "    return jnp.mean(squared_error_vmap(xs, ys), axis=0)"
   ]
  },
  {
   "cell_type": "code",
   "execution_count": 86,
   "id": "2f02163e-2b4c-4dd2-8a92-eaea7dd3609b",
   "metadata": {},
   "outputs": [],
   "source": [
    "grad_fn = jax.jit(jax.grad(loss_fn))"
   ]
  },
  {
   "cell_type": "code",
   "execution_count": 87,
   "id": "dc0bca1b-0366-4f43-9438-9f0403ff2d3a",
   "metadata": {},
   "outputs": [],
   "source": [
    "# we pick a gradient-descent step size\n",
    "learning_rate = 0.5\n",
    "\n",
    "# A list to hold our loss value as a function of iteration\n",
    "loss_history = []\n",
    "\n",
    "for _ in range(20):\n",
    "    loss = loss_fn(params, x, y)\n",
    "    loss_history.append(loss)\n",
    "\n",
    "    grads = grad_fn(params, x, y)\n",
    "    params = jax.tree_multimap(lambda p, g: p - learning_rate * g, params, grads)"
   ]
  },
  {
   "cell_type": "code",
   "execution_count": 90,
   "id": "958b4d9c-7ad9-49b8-82fc-0830ed18bc44",
   "metadata": {},
   "outputs": [
    {
     "data": {
      "text/plain": [
       "Text(0, 0.5, 'Loss value')"
      ]
     },
     "execution_count": 90,
     "metadata": {},
     "output_type": "execute_result"
    },
    {
     "data": {
      "image/png": "[encoded data removed]",
      "text/plain": [
       "<Figure size 432x288 with 1 Axes>"
      ]
     },
     "metadata": {
      "needs_background": "light"
     },
     "output_type": "display_data"
    }
   ],
   "source": [
    "plt.plot(loss_history)\n",
    "plt.xlabel(\"Iteration\")\n",
    "plt.ylabel(\"Loss value\")"
   ]
  },
  {
   "cell_type": "code",
   "execution_count": 88,
   "id": "5a334255-55a1-4bd2-86d9-0c0d5cdc3555",
   "metadata": {},
   "outputs": [
    {
     "data": {
      "text/plain": [
       "[<matplotlib.lines.Line2D at 0x16356ef10>]"
      ]
     },
     "execution_count": 88,
     "metadata": {},
     "output_type": "execute_result"
    },
    {
     "data": {
      "image/png": "[encoded data removed]",
      "text/plain": [
       "<Figure size 432x288 with 1 Axes>"
      ]
     },
     "metadata": {
      "needs_background": "light"
     },
     "output_type": "display_data"
    }
   ],
   "source": [
    "# generate all points in an interval\n",
    "_xpts = jnp.linspace(-2,2,10)\n",
    "plt.plot(_xpts, jax.vmap(approxfun, in_axes=(None, 0))(params, _xpts))\n",
    "plt.plot(x,y, '*')"
   ]
  },
  {
   "cell_type": "code",
   "execution_count": null,
   "id": "87fdee00-e337-4ed7-baed-5b391c7ba98c",
   "metadata": {},
   "outputs": [],
   "source": []
  },
  {
   "cell_type": "markdown",
   "id": "045c38e9-1949-41c3-9f35-4d57ac58f447",
   "metadata": {},
   "source": [
    "## 3.1 - Linear Regression in Jax with Flax!\n",
    "\n",
    "In the previous example we had to define by hand the parameters and our _model_.\n",
    "Once we start using complicated models such as neural networks we don't want to do this by hand, but we want a library to do it for us.\n",
    "\n",
    "We will be using [Flax](https://github.com/google/flax), which is a Jax-compatible library for doing so.\n",
    "I chose this one because it is functional and immutable, so it is easier to reason about, however if you prefer object-oriented way-of thinking (😭) you're free to use [Haiku](https://github.com/deepmind/dm-haiku), [objax](https://objax.readthedocs.io) or many others.\n"
   ]
  },
  {
   "cell_type": "code",
   "execution_count": 56,
   "id": "fb882956-09ed-43ee-ad20-4159c5719256",
   "metadata": {},
   "outputs": [],
   "source": [
    "import flax.linen as nn"
   ]
  },
  {
   "cell_type": "markdown",
   "id": "ef2e3efe-b415-4d14-af1e-6c644a6b2f0e",
   "metadata": {},
   "source": [
    "A model in flax is defined as follows.\n",
    "Take the following as *boilerplate*, there's not much to understand. \n",
    "If you want to understand it better and see more advanced features, check out [flax documentation](https://flax.readthedocs.io/en/latest/howtos/model_surgery.html)."
   ]
  },
  {
   "cell_type": "code",
   "execution_count": 213,
   "id": "6aa9bc73-0aee-4117-914b-418ed77d0abc",
   "metadata": {},
   "outputs": [],
   "source": [
    "# A Flax model must be a class sub-classing nn.Module\n",
    "class linear_model(nn.Module):\n",
    "    \n",
    "    # The body of the model must be defined using the `@nn.compact` decorator.\n",
    "    # Just think of it as boilerplate, and if you are curious, check out\n",
    "    # Flax documentation\n",
    "    @nn.compact\n",
    "    def __call__(self, x):\n",
    "        \"\"\"\n",
    "        This function should evaluate the result of the model for an input x and output the prediction.\n",
    "        \"\"\"\n",
    "        x = x.reshape(-1, in_dimension)\n",
    "        dense_layer = nn.Dense(features=out_dimension)\n",
    "        return dense_layer(x)"
   ]
  },
  {
   "cell_type": "markdown",
   "id": "c580b7ec-e0cd-4558-8af5-db32bc45022e",
   "metadata": {},
   "source": [
    "Let's initialize the model:\n",
    " \n",
    " - We need a seed for the RNG that generates the initial weights\n",
    " - We need a sample input"
   ]
  },
  {
   "cell_type": "code",
   "execution_count": 214,
   "id": "72da4310-55b9-4483-88ba-59914d65e216",
   "metadata": {},
   "outputs": [],
   "source": [
    "seed = 123\n",
    "\n",
    "model = linear_model()\n",
    "\n",
    "key = jax.random.PRNGKey(seed)\n",
    "sample_input = jnp.ones([1])\n",
    "\n",
    "pars = model.init(key, sample_input)"
   ]
  },
  {
   "cell_type": "markdown",
   "id": "ab0f12a2-d818-4395-9b34-0a6dfa4b563b",
   "metadata": {},
   "source": [
    "We can inspect the parameters.\n",
    "Flax stores them in a `PyTree`, a tree-structure of nested containers (dictionaries, lists and tuples) where the only leaf-nodes are jax.numpy tensors."
   ]
  },
  {
   "cell_type": "code",
   "execution_count": 215,
   "id": "851548b7-2bf5-4e33-8ca0-dde4be591922",
   "metadata": {},
   "outputs": [
    {
     "data": {
      "text/plain": [
       "FrozenDict({\n",
       "    params: {\n",
       "        Dense_0: {\n",
       "            kernel: DeviceArray([[-0.34714592]], dtype=float32),\n",
       "            bias: DeviceArray([0.], dtype=float32),\n",
       "        },\n",
       "    },\n",
       "})"
      ]
     },
     "execution_count": 215,
     "metadata": {},
     "output_type": "execute_result"
    }
   ],
   "source": [
    "pars"
   ]
  },
  {
   "cell_type": "markdown",
   "id": "e2fd29f9-15c0-431b-b0ed-3cd5988d8fe0",
   "metadata": {},
   "source": [
    "To evaluate the Flax model, we need to use the `model.apply` syntax:"
   ]
  },
  {
   "cell_type": "code",
   "execution_count": 216,
   "id": "48e93869-cb2b-4e0c-b981-fb63c11b820c",
   "metadata": {},
   "outputs": [
    {
     "data": {
      "text/plain": [
       "(100, 1)"
      ]
     },
     "execution_count": 216,
     "metadata": {},
     "output_type": "execute_result"
    }
   ],
   "source": [
    "model.apply(pars, x).shape"
   ]
  },
  {
   "cell_type": "markdown",
   "id": "5444b0e4-c183-4b5d-9953-f314a2e7ba6a",
   "metadata": {},
   "source": [
    "So we can rewrite our loss function and training algorithm:"
   ]
  },
  {
   "cell_type": "code",
   "execution_count": 217,
   "id": "dfe6d1e1-a12c-41fd-9b16-f6a47b2a4921",
   "metadata": {},
   "outputs": [],
   "source": [
    "def loss_fn_flax(params, xs, ys):\n",
    "    \n",
    "    # function returning squared error of a single datapoint\n",
    "    def squared_error(x,y):\n",
    "          y_pred = model.apply(params, x)\n",
    "          return jnp.square(y-y_pred)/2.0\n",
    "    \n",
    "    squared_error_vmap = jax.vmap(squared_error)\n",
    "    return jnp.mean(squared_error_vmap(xs, ys))"
   ]
  },
  {
   "cell_type": "code",
   "execution_count": 218,
   "id": "866814e2-8335-4a73-b06b-a00847fcd959",
   "metadata": {},
   "outputs": [],
   "source": [
    "# initialize the network and get initial parameters\n",
    "pars = model.init(random.PRNGKey(0), x)[\"params\"]\n",
    "\n",
    "# we pick a gradient-descent step size\n",
    "learning_rate = 0.5\n",
    "\n",
    "# A list to hold our loss value as a function of iteration\n",
    "loss_history = []\n",
    "\n",
    "# the gradient function\n",
    "grad_fn = jax.jit(jax.grad(loss_fn_flax))\n",
    "\n",
    "for _ in range(20):\n",
    "    loss = loss_fn_flax({\"params\": pars}, x, y)\n",
    "    loss_history.append(loss)\n",
    "\n",
    "    grads = grad_fn({\"params\": pars}, x, y)[\"params\"]\n",
    "    pars = jax.tree_multimap(lambda p, g: p - learning_rate * g, pars, grads)"
   ]
  },
  {
   "cell_type": "code",
   "execution_count": 219,
   "id": "5a6cfdaf-83b9-42c1-9aa0-c08e6ff7bfa2",
   "metadata": {},
   "outputs": [],
   "source": [
    "#plt.plot(loss_history)"
   ]
  },
  {
   "cell_type": "code",
   "execution_count": 220,
   "id": "5bbbffe1-ef07-4fe6-a449-c4c8360767eb",
   "metadata": {},
   "outputs": [
    {
     "data": {
      "text/plain": [
       "(10,)"
      ]
     },
     "execution_count": 220,
     "metadata": {},
     "output_type": "execute_result"
    }
   ],
   "source": [
    "_xpts.shape"
   ]
  },
  {
   "cell_type": "code",
   "execution_count": 221,
   "id": "f2c69a7d-1463-45c6-b5ca-9c83e9ebfd52",
   "metadata": {},
   "outputs": [
    {
     "data": {
      "text/plain": [
       "DeviceArray([[-1.8653626 ],\n",
       "             [-1.4593016 ],\n",
       "             [-1.0532407 ],\n",
       "             [-0.64717937],\n",
       "             [-0.24111849],\n",
       "             [ 0.16494268],\n",
       "             [ 0.57100374],\n",
       "             [ 0.9770648 ],\n",
       "             [ 1.3831257 ],\n",
       "             [ 1.7891867 ]], dtype=float32)"
      ]
     },
     "execution_count": 221,
     "metadata": {},
     "output_type": "execute_result"
    }
   ],
   "source": [
    " model.apply({\"params\": pars}, _xpts)"
   ]
  },
  {
   "cell_type": "code",
   "execution_count": 222,
   "id": "02ee6b96-336a-47db-8e80-b03960f9e8e7",
   "metadata": {},
   "outputs": [
    {
     "data": {
      "text/plain": [
       "[<matplotlib.lines.Line2D at 0x163aef3d0>]"
      ]
     },
     "execution_count": 222,
     "metadata": {},
     "output_type": "execute_result"
    },
    {
     "data": {
      "image/png": "[encoded data removed]",
      "text/plain": [
       "<Figure size 432x288 with 1 Axes>"
      ]
     },
     "metadata": {
      "needs_background": "light"
     },
     "output_type": "display_data"
    }
   ],
   "source": [
    "# generate all points in an interval\n",
    "_xpts = jnp.linspace(-2,2,10)\n",
    "plt.plot(x,y, '*')\n",
    "plt.plot(_xpts, model.apply({\"params\": pars}, _xpts))"
   ]
  },
  {
   "cell_type": "code",
   "execution_count": null,
   "id": "d05cc62a-6cc4-43f9-b9d5-b7dbb65a5c8f",
   "metadata": {},
   "outputs": [],
   "source": []
  }
 ],
 "metadata": {
  "kernelspec": {
   "display_name": "Python (ML Teaching)",
   "language": "python",
   "name": "teach-ml"
  },
  "language_info": {
   "codemirror_mode": {
    "name": "ipython",
    "version": 3
   },
   "file_extension": ".py",
   "mimetype": "text/x-python",
   "name": "python",
   "nbconvert_exporter": "python",
   "pygments_lexer": "ipython3",
   "version": "3.9.6"
  }
 },
 "nbformat": 4,
 "nbformat_minor": 5
}
